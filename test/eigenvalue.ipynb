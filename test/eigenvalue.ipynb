{
 "metadata": {
  "language_info": {
   "codemirror_mode": {
    "name": "ipython",
    "version": 3
   },
   "file_extension": ".py",
   "mimetype": "text/x-python",
   "name": "python",
   "nbconvert_exporter": "python",
   "pygments_lexer": "ipython3",
   "version": "3.8.3-final"
  },
  "orig_nbformat": 2,
  "kernelspec": {
   "name": "python38364bit8d0d244dd7c04789b9c15541cd534737",
   "display_name": "Python 3.8.3 64-bit",
   "language": "python"
  }
 },
 "nbformat": 4,
 "nbformat_minor": 2,
 "cells": [
  {
   "cell_type": "code",
   "execution_count": 22,
   "metadata": {},
   "outputs": [],
   "source": [
    "#https://www.cnblogs.com/sparkwen/p/3155850.html\n",
    "import numpy as np"
   ]
  },
  {
   "cell_type": "code",
   "execution_count": 23,
   "metadata": {},
   "outputs": [],
   "source": [
    "A = np.array([[2, -1, -1, 0, 0, 0, 0],\n",
    "              [-1, 3, -1, -1, 0, 0, 0],\n",
    "              [-1, -1, 2, 0, 0, 0, 0],\n",
    "              [0, -1, 0, 4, -1, -1, -1],\n",
    "              [0, 0, 0, -1, 2, -1, 0],\n",
    "              [0, 0, 0, -1, -1, 3, -1],\n",
    "              [0, 0, 0, -1, 0, -1, 2]])"
   ]
  },
  {
   "cell_type": "code",
   "execution_count": 24,
   "metadata": {},
   "outputs": [],
   "source": [
    "a, b = np.linalg.eig(A)"
   ]
  },
  {
   "cell_type": "code",
   "execution_count": 25,
   "metadata": {},
   "outputs": [
    {
     "output_type": "execute_result",
     "data": {
      "text/plain": [
       "array([-5.55111512e-17,  3.98320868e-01,  5.26180225e+00,  3.00000000e+00,\n",
       "        3.33987689e+00,  4.00000000e+00,  2.00000000e+00])"
      ]
     },
     "metadata": {},
     "execution_count": 25
    }
   ],
   "source": [
    "a"
   ]
  },
  {
   "cell_type": "code",
   "execution_count": 26,
   "metadata": {},
   "outputs": [
    {
     "output_type": "execute_result",
     "data": {
      "text/plain": [
       "array([[-3.77964473e-01, -4.92886500e-01, -1.06502348e-01,\n",
       "         7.07106781e-01, -3.20722630e-01, -1.43455444e-16,\n",
       "         5.23723739e-17],\n",
       "       [-3.77964473e-01, -2.96559521e-01,  4.53891948e-01,\n",
       "         1.92325595e-15,  7.50451469e-01,  9.53765695e-16,\n",
       "         1.38176852e-16],\n",
       "       [-3.77964473e-01, -4.92886500e-01, -1.06502348e-01,\n",
       "        -7.07106781e-01, -3.20722630e-01, -6.66854807e-16,\n",
       "        -1.38176852e-16],\n",
       "       [-3.77964473e-01,  2.14220282e-01, -8.13609130e-01,\n",
       "         6.53077047e-16,  3.86384151e-01,  3.79943919e-16,\n",
       "         3.34321038e-17],\n",
       "       [-3.77964473e-01,  3.56037413e-01,  1.90907293e-01,\n",
       "        -2.72691716e-16, -1.65130120e-01,  4.08248290e-01,\n",
       "        -7.07106781e-01],\n",
       "       [-3.77964473e-01,  3.56037413e-01,  1.90907293e-01,\n",
       "        -3.44096593e-16, -1.65130120e-01, -8.16496581e-01,\n",
       "        -2.58355914e-17],\n",
       "       [-3.77964473e-01,  3.56037413e-01,  1.90907293e-01,\n",
       "        -3.44096593e-16, -1.65130120e-01,  4.08248290e-01,\n",
       "         7.07106781e-01]])"
      ]
     },
     "metadata": {},
     "execution_count": 26
    }
   ],
   "source": [
    "# 第一列对应第一个特征值，第二列对应第二个特征值\n",
    "b"
   ]
  },
  {
   "cell_type": "code",
   "execution_count": 27,
   "metadata": {},
   "outputs": [
    {
     "output_type": "execute_result",
     "data": {
      "text/plain": [
       "array([-5.55111512e-17,  3.98320868e-01,  5.26180225e+00,  3.00000000e+00,\n",
       "        3.33987689e+00,  4.00000000e+00,  2.00000000e+00])"
      ]
     },
     "metadata": {},
     "execution_count": 27
    }
   ],
   "source": [
    "np.linalg.eigvals(A)"
   ]
  }
 ]
}